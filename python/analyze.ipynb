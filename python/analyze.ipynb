{
 "cells": [
  {
   "cell_type": "code",
   "execution_count": 34,
   "id": "abandoned-equation",
   "metadata": {},
   "outputs": [],
   "source": [
    "from sklearn.model_selection import train_test_split\n",
    "from sklearn.feature_extraction.text import CountVectorizer\n",
    "from sklearn.linear_model import LogisticRegression\n",
    "import json\n",
    "\n",
    "labeled_json = open(\"../labelled.json\").read()\n",
    "labelled = json.loads(labeled_json)"
   ]
  },
  {
   "cell_type": "code",
   "execution_count": 35,
   "id": "elegant-aside",
   "metadata": {},
   "outputs": [
    {
     "name": "stdout",
     "output_type": "stream",
     "text": [
      "{'sequence_index': 11, 'data': [{'tweet': {'id': '1500998000101011460', 'text': 'an oxycodone prescription is a dangerous thing for a woman like me 2 have…but i have it', 'search_term': 'oxycodone'}, 'tags': 'prescription,abuse', 'sentiment': False}, {'tweet': {'id': '1500995581342216192', 'text': '@kondracke trust me they are not bankrupt they claim bankruptcy they’ll just produce their drugs under another name there are still making oxycodone', 'search_term': 'oxycodone'}, 'tags': 'unknown', 'sentiment': False}, {'tweet': {'id': '1500995007909535744', 'text': 'Large quantity of oxycodone seized during Kamloops traffic stop #kamloops https://t.co/PVW2cVPBT1 https://t.co/4S0DRE2IqI', 'search_term': 'oxycodone'}, 'tags': 'info', 'sentiment': False}, {'tweet': {'id': '1500995004856107012', 'text': 'Large quantity of oxycodone seized during Kamloops traffic stop #kamloops https://t.co/hfbaebIUlD https://t.co/nchSNKcil9', 'search_term': 'oxycodone'}, 'tags': 'info', 'sentiment': False}, {'tweet': {'id': '1500995002985373702', 'text': 'Large quantity of oxycodone seized during Kamloops traffic stop #kamloops https://t.co/7r5lDlt5yh https://t.co/wrtTbaWRht', 'search_term': 'oxycodone'}, 'tags': 'info', 'sentiment': False}, {'tweet': {'id': '1500995001127374849', 'text': 'Large quantity of oxycodone seized during Kamloops traffic stop #kamloops https://t.co/PUBUzdaUpt https://t.co/7b59tdvgW9', 'search_term': 'oxycodone'}, 'tags': 'info', 'sentiment': False}, {'tweet': {'id': '1500983059524595718', 'text': '@babyy7k This is just norco in liquid form . So oxycodone is technically stronger . But the tuss is still stupid fire', 'search_term': 'oxycodone'}, 'tags': 'abuse', 'sentiment': True}, {'tweet': {'id': '1500980986657468417', 'text': '#Kamloops RCMP say they seized four kilos of suspected Oxycodone, a stolen trailer, and $1,800 in cash during a traffic stop on Sunday, Feb. 27. https://t.co/m0GTe8PCUw https://t.co/2NP4NO5Hy1', 'search_term': 'oxycodone'}, 'tags': 'info', 'sentiment': False}, {'tweet': {'id': '1500978081661653003', 'text': '@Jotaro_Fujo @hubbywubbs Are you oxycodone?', 'search_term': 'oxycodone'}, 'tags': 'abuse', 'sentiment': True}, {'tweet': {'id': '1500964007708143617', 'text': 'Narcotics agents in Oregon seized 150,000 fake oxycodone pills containing fentanyl and about 20 pounds of fentanyl powder in possibly the biggest fentanyl seizure every made in Oregon. #OnePillCanKill https://t.co/kB1xA8A0JD', 'search_term': 'oxycodone'}, 'tags': 'info,general', 'sentiment': False}, {'tweet': {'id': '1500961737247440901', 'text': '@RepStefanik Hmm, I think you guys spend more time thinking up \"catchy\" acronyms for your bills than you do in writing precise legislation. \\nSo, I can purchase fentanyl IF I can find a non-criminal drug salesman?\\nYikes!  Don\\'t tell the Purdue Pharma,who sold millions of oxycodone LEGALLY.', 'search_term': 'oxycodone'}, 'tags': 'question,abuse,prescription', 'sentiment': False}]}\n"
     ]
    }
   ],
   "source": [
    "print(labelled)"
   ]
  },
  {
   "cell_type": "code",
   "execution_count": 36,
   "id": "amazing-destruction",
   "metadata": {},
   "outputs": [],
   "source": [
    "train = []\n",
    "train_labels = []\n",
    "\n",
    "for tweet in labelled[\"data\"]:\n",
    "    text = tweet[\"tweet\"][\"text\"]\n",
    "    train.append(text)\n",
    "    sentiment = tweet[\"sentiment\"]\n",
    "    train_labels.append(sentiment)"
   ]
  },
  {
   "cell_type": "code",
   "execution_count": 37,
   "id": "behavioral-incentive",
   "metadata": {},
   "outputs": [
    {
     "name": "stdout",
     "output_type": "stream",
     "text": [
      "[False, False, False, False, False, False, True, False, True, False, False]\n"
     ]
    }
   ],
   "source": [
    "print(train_labels)"
   ]
  },
  {
   "cell_type": "code",
   "execution_count": 42,
   "id": "played-contrast",
   "metadata": {},
   "outputs": [
    {
     "name": "stdout",
     "output_type": "stream",
     "text": [
      "['000', '150', '20', '27', '2np4no5hy1', '4s0dre2iqi', '7b59tdvgw9', '7r5ldlt5yh', '800', 'about', 'acronyms', 'agents', 'an', 'and', 'another', 'are', 'babyy7k', 'bankrupt', 'bankruptcy', 'biggest', 'bills', 'but', 'can', 'cash', 'catchy', 'claim', 'co', 'containing', 'criminal', 'dangerous', 'do', 'don', 'drug', 'drugs', 'during', 'every', 'fake', 'feb', 'fentanyl', 'find', 'fire', 'for', 'form', 'four', 'guys', 'have', 'hfbaebiuld', 'hmm', 'https', 'hubbywubbs', 'if', 'in', 'is', 'it', 'jotaro_fujo', 'just', 'kamloops', 'kb1xa8a0jd', 'kilos', 'kondracke', 'large', 'legally', 'legislation', 'like', 'liquid', 'll', 'm0gte8pcuw', 'made', 'making', 'me', 'millions', 'more', 'name', 'narcotics', 'nchsnkcil9', 'non', 'norco', 'not', 'of', 'on', 'onepillcankill', 'oregon', 'oxycodone', 'pharma', 'pills', 'possibly', 'pounds', 'powder', 'precise', 'prescription', 'produce', 'pubuzdaupt', 'purchase', 'purdue', 'pvw2cvpbt1', 'quantity', 'rcmp', 'repstefanik', 'salesman', 'say', 'seized', 'seizure', 'so', 'sold', 'spend', 'still', 'stolen', 'stop', 'stronger', 'stupid', 'sunday', 'suspected', 'technically', 'tell', 'than', 'the', 'their', 'there', 'they', 'thing', 'think', 'thinking', 'this', 'time', 'traffic', 'trailer', 'trust', 'tuss', 'under', 'up', 'who', 'woman', 'writing', 'wrttbawrht', 'yikes', 'you', 'your']\n"
     ]
    }
   ],
   "source": [
    "features = vectorizer.fit_transform(train)\n",
    "print(sorted(vectorizer.vocabulary_))"
   ]
  },
  {
   "cell_type": "code",
   "execution_count": null,
   "id": "operating-anthropology",
   "metadata": {},
   "outputs": [],
   "source": []
  },
  {
   "cell_type": "code",
   "execution_count": 47,
   "id": "freelance-people",
   "metadata": {},
   "outputs": [],
   "source": [
    "features_array = features.toarray()"
   ]
  },
  {
   "cell_type": "code",
   "execution_count": 50,
   "id": "written-reynolds",
   "metadata": {},
   "outputs": [
    {
     "name": "stdout",
     "output_type": "stream",
     "text": [
      "an oxycodone prescription is a dangerous thing for a woman like me 2 have…but i have it\n",
      "[0 0 0 0 0 0 0 0 0 0 0 0 1 0 0 0 0 0 0 0 0 1 0 0 0 0 0 0 0 1 0 0 0 0 0 0 0\n",
      " 0 0 0 0 1 0 0 0 2 0 0 0 0 0 0 1 1 0 0 0 0 0 0 0 0 0 1 0 0 0 0 0 1 0 0 0 0\n",
      " 0 0 0 0 0 0 0 0 1 0 0 0 0 0 0 1 0 0 0 0 0 0 0 0 0 0 0 0 0 0 0 0 0 0 0 0 0\n",
      " 0 0 0 0 0 0 0 0 1 0 0 0 0 0 0 0 0 0 0 0 1 0 0 0 0 0]\n"
     ]
    }
   ],
   "source": [
    "print(train[0])\n",
    "print(features_array[0])"
   ]
  },
  {
   "cell_type": "code",
   "execution_count": null,
   "id": "incomplete-ethernet",
   "metadata": {},
   "outputs": [],
   "source": [
    "X_train, X_test, y_train, y_test = train_test_split(\n",
    "    features_array,\n",
    "    train_labels,\n",
    "    train_size = 0.5,\n",
    "    random_state = 237897 #seed\n",
    ")"
   ]
  },
  {
   "cell_type": "code",
   "execution_count": null,
   "id": "insured-shanghai",
   "metadata": {},
   "outputs": [],
   "source": [
    "print(\"X_train:\")\n",
    "print(X_train)\n",
    "print(\"\")\n",
    "\n",
    "print(\"X_test:\")\n",
    "print(X_test)\n",
    "print(\"\")\n",
    "\n",
    "print(y_train)\n",
    "print(y_test)\n"
   ]
  },
  {
   "cell_type": "code",
   "execution_count": null,
   "id": "proper-balance",
   "metadata": {},
   "outputs": [],
   "source": [
    "for elem in X_test:\n",
    "    index = features_array.tolist().index(elem.tolist())\n",
    "    print(index)\n",
    "    print(X_test[index])"
   ]
  },
  {
   "cell_type": "code",
   "execution_count": null,
   "id": "excited-amendment",
   "metadata": {},
   "outputs": [],
   "source": []
  },
  {
   "cell_type": "code",
   "execution_count": null,
   "id": "russian-dylan",
   "metadata": {},
   "outputs": [],
   "source": []
  }
 ],
 "metadata": {
  "kernelspec": {
   "display_name": "Python 3",
   "language": "python",
   "name": "python3"
  },
  "language_info": {
   "codemirror_mode": {
    "name": "ipython",
    "version": 3
   },
   "file_extension": ".py",
   "mimetype": "text/x-python",
   "name": "python",
   "nbconvert_exporter": "python",
   "pygments_lexer": "ipython3",
   "version": "3.9.8"
  }
 },
 "nbformat": 4,
 "nbformat_minor": 5
}
